{
 "cells": [
  {
   "cell_type": "code",
   "id": "initial_id",
   "metadata": {
    "collapsed": true,
    "ExecuteTime": {
     "end_time": "2024-12-02T21:53:13.814938Z",
     "start_time": "2024-12-02T21:53:11.259001Z"
    }
   },
   "source": [
    "import numpy as np\n",
    "from astropy.cosmology import FlatLambdaCDM, Flatw0waCDM\n",
    "from wowadis_muilt_withcovmat_marginalH0 import dh_inmpc,bao_dv_dr,bao_fap, dm_inmpc\n",
    "from scipy.optimize import minimize\n",
    "import emcee\n",
    "import matplotlib.pyplot as plt\n",
    "import corner\n",
    "import pandas as pd\n",
    "from scipy.spatial import KDTree\n",
    "import astropy.units as u\n",
    "from scipy.stats import gaussian_kde\n",
    "import gzip\n",
    "\n",
    "data = np.genfromtxt('data/DES-SN5YR_HD.csv',\n",
    "                     delimiter=',', names=True, dtype=None, encoding='utf-8')\n",
    "zHEL_array = data['zHEL']\n",
    "MUERR_FINAL_array = data['MUERR_FINAL']\n",
    "\n",
    "with gzip.open('data/STAT+SYS.txt.gz', 'rt') as f:\n",
    "    data = np.loadtxt(f, skiprows=1)\n",
    "print(\"Data shape before reshape:\", data.shape)\n",
    "\n",
    "C_SYS = data.reshape((1829, 1829))\n",
    "print(\"C_SYS shape after reshape:\", C_SYS.shape)\n",
    "cov_matrix_sne = np.diag(MUERR_FINAL_array ** 2) + C_SYS\n",
    "\n",
    "\n",
    "print(zHEL_array)\n",
    "print(MUERR_FINAL_array)\n",
    "z_desy5 = np.array(zHEL_array)\n",
    "des_sne_cosmo_wowa = Flatw0waCDM(H0=70, Om0=0.495, w0=-0.36, wa=-8.8)\n",
    "distmod_error_desy5 = np.array(MUERR_FINAL_array)\n",
    "#sne_distmod\n",
    "# from paper:\n",
    "zeff = np.array([0.295, 0.510, 0.706, 0.930, 1.317, 1.491, 2.330])\n",
    "dm_rd = np.array([0, 13.62, 16.85, 21.71, 27.79, 0, 39.71])\n",
    "delta_dm_rd = np.array([0, 0.25, 0.32, 0.28, 0.69, 0, 0.94])\n",
    "dh_rd = np.array([0, 20.98, 20.08, 17.88, 13.82, 0, 8.52])\n",
    "delta_dh_rd =np.array( [0, 0.61, 0.60, 0.35, 0.42, 0, 0.17])\n",
    "dv_rd =np.array([7.93, -0.445, -0.420, -0.389, -0.444, 26.07, -0.447])\n",
    "delata_dv_rd = [0.15, None, None, None, None, 0.67,None]\n",
    "rdrag = 147.18 * u.Mpc\n",
    "coefficient_r= np.array([np.nan, -0.445, -0.420, -0.389, -0.444, np.nan, -0.447])\n",
    "#few definition for calculation both the error bar of BAO DV&FAP and also draw the plot\n",
    "def delta_ab(delta_a, delta_b, r):\n",
    "    _delta_a= np.nan_to_num(delta_a, nan=0.0)\n",
    "    _delta_b= np.nan_to_num(delta_b, nan=0.0)\n",
    "    _r= np.nan_to_num(np.array(r), nan=0.0)\n",
    "    return _r*_delta_a*_delta_b\n",
    "\n",
    "def from_data_to_dvmet(z,dm_rd,dh_rd):\n",
    "    dm_rd = np.array(dm_rd)\n",
    "    dh_rd = np.array(dh_rd)\n",
    "    z = np.array(z)\n",
    "    dm = dm_rd\n",
    "    dh = dh_rd\n",
    "    dv = ((dm ** 2) * dh * (z)) ** (1 / 3)\n",
    "    return dv\n",
    "\n",
    "def from_data_to_fap(z,dm_rd,dh_rd):\n",
    "    dm = dm_rd * 147.18\n",
    "    dh = dh_rd * 147.18\n",
    "    fap = (dm / dh)\n",
    "    return fap\n",
    "\n",
    "def delta_DV(z, delta_DM, delta_DH, DM, DH, coefficient):\n",
    "    #DV = ((DM ** 2) * DH * (z)) ** (1 / 3)\n",
    "    partial_DM = (2 * DM * DH * z) / (3 * (DM**2 * DH * z)**(2/3))\n",
    "    partial_DH = (DM**2 * z) / (3 * (DM**2 * DH * z)**(2/3))\n",
    "    _partial_DM = np.nan_to_num(partial_DM, nan=0.0)\n",
    "    _partial_DH = np.nan_to_num(partial_DH, nan=0.0)\n",
    "    _delta_DM = np.nan_to_num(delta_DM, nan=0.0)\n",
    "    _delta_DH = np.nan_to_num(delta_DH, nan=0.0)\n",
    "    covariance_term = delta_ab(_partial_DM* _delta_DM, _partial_DH * _delta_DH, coefficient)\n",
    "\n",
    "    sigma_DV = np.sqrt((partial_DM * delta_DM)**2 + (partial_DH * delta_DH)**2+ 2 * covariance_term)\n",
    "    return sigma_DV\n",
    "\n",
    "def delta_FAP(delta_DM, delta_DH, DM, DH, coefficient):\n",
    "    FAP = (DM / DH)\n",
    "    coefficient = np.nan_to_num(coefficient, nan=0.0)\n",
    "\n",
    "    covariance_term = delta_ab((delta_DM / DH), (DM * delta_DH / (DH**2)), coefficient)\n",
    "\n",
    "    sigma_FAP = np.sqrt((delta_DM / DH)**2 + ((DM * delta_DH) / (DH**2))**2 - 2* covariance_term)\n",
    "    return sigma_FAP\n",
    "\n",
    "dv = from_data_to_dvmet(zeff,dm_rd,dh_rd)\n",
    "print('dv',dv)\n",
    "\n",
    "delta_DV(zeff, delta_dm_rd, delta_dh_rd, dm_rd, dh_rd, coefficient_r)\n",
    "print('delta dv',delta_DV(zeff, delta_dm_rd, delta_dh_rd, dm_rd, dh_rd, coefficient_r))\n",
    "\n",
    "zeff_array = np.array([0.295, 0.510, 0.706, 0.930, 1.317, 1.491, 2.330])\n",
    "_compare_cosmo_bao = FlatLambdaCDM(H0=70, Om0=0.3)\n",
    "_dv_dr_compare = bao_dv_dr(zeff_array, H0=70, Om0=0.3, w0=-1.0, wa=0)\n",
    "\n",
    "_dh_dr_compare  = dh_inmpc(zeff_array, H0=70, Om0=0.3, w0=-1.0, wa=0).value/147.18\n",
    "_dm_dr_compare  = dm_inmpc(zeff_array, H0=70, Om0=0.3, w0=-1.0, wa=0).value/147.18\n",
    "\n",
    "print(((_dh_dr_compare)*((_dm_dr_compare**2)*zeff_array))**(1/3))\n",
    "print(_dv_dr_compare)\n",
    "delta_dv_imcom = delta_DV(zeff, delta_dm_rd, delta_dh_rd, _dm_dr_compare, _dh_dr_compare, coefficient_r)\n",
    "print(delta_dv_imcom) #incomplete\n",
    "delta_dv = delta_dv_imcom\n",
    "delta_dv[0] = 0.15  #same as in table1 of desi paper\n",
    "delta_dv[5] = 0.67\n",
    "print(delta_dv)\n",
    "zeff_fap = np.delete(zeff_array, [0, 5])\n",
    "_fap_compare = bao_fap(zeff_fap, H0=70, Om0=0.3, w0=-1.0, wa=0)\n",
    "print(_fap_compare)\n",
    "#(delta_DM, delta_DH, DM, DH)\n",
    "delta_fap_imcom = delta_FAP(delta_dm_rd, delta_dh_rd, _dm_dr_compare, _dh_dr_compare, coefficient_r)\n",
    "print(delta_fap_imcom)\n",
    "delta_fap = np.delete(delta_fap_imcom, [0, 5])\n",
    "print(delta_fap)\n",
    "#bao part:\n",
    "print(zeff_array)\n",
    "print(delta_dv)\n",
    "\n",
    "print('zeff_fap',zeff_fap)\n",
    "print(delta_fap)\n",
    "\n",
    "#SNe part:\n",
    "print(z_desy5)\n",
    "print(distmod_error_desy5)\n",
    "\n",
    "print('xxxxxxxxxxxxX')\n",
    "\n",
    "file_path = 'data/fw0wacdm_SN_emcee.txt'\n",
    "data_SN = pd.read_csv(file_path, sep='\\s+', comment='#', header=None)\n",
    "data_SN.columns = ['omega_m', 'w', 'wa', 'prior', 'post']\n",
    "data_subset_SN = data_SN[['w', 'wa', 'omega_m']]\n",
    "param_combinations_desy5 = data_subset_SN.to_numpy()\n",
    "\n",
    "H0_column_sn_desy5 = np.full((param_combinations_desy5.shape[0], 1), 70.0)\n",
    "\n",
    "param_combinations_desy5 = np.hstack((param_combinations_desy5,H0_column_sn_desy5))\n",
    "\n",
    "if len(param_combinations_desy5) >= 20000:\n",
    "    # Randomly select 20,000 rows\n",
    "    random_indices = np.random.choice(param_combinations_desy5.shape[0], 4000, replace=False)\n",
    "    lw_params = param_combinations_desy5[random_indices]\n",
    "\n",
    "file_path_2 = 'data/fw0wacdm_planck+SN+eBOSS+3x2pt.txt'\n",
    "data_sn_bao_cmb = pd.read_csv(file_path_2, sep='\\s+', comment='#', header=None)\n",
    "column_names_bao_cmb = [\n",
    "    'omega_m', 'h0', 'omega_b', 'n_s', 'a_s', 'w', 'wa', 'mnu', 'tau',\n",
    "    'shear_calibration_m1', 'shear_calibration_m2', 'shear_calibration_m3', 'shear_calibration_m4',\n",
    "    'wl_photoz_bias_1', 'wl_photoz_bias_2', 'wl_photoz_bias_3', 'wl_photoz_bias_4',\n",
    "    'lens_photoz_bias_1', 'lens_photoz_bias_2', 'lens_photoz_bias_3', 'lens_photoz_bias_4',\n",
    "    'lens_photoz_width_1', 'lens_photoz_width_2', 'lens_photoz_width_3', 'lens_photoz_width_4',\n",
    "    'bias_lens_b1', 'bias_lens_b2', 'bias_lens_b3', 'bias_lens_b4',\n",
    "    'intrinsic_alignment_a1', 'intrinsic_alignment_a2', 'intrinsic_alignment_alpha1', 'intrinsic_alignment_alpha2',\n",
    "    'intrinsic_alignment_bias_ta', 'prior', 'like', 'post', 'weight'\n",
    "]\n",
    "data_sn_bao_cmb.columns = column_names_bao_cmb\n",
    "data_sn_bao_cmb = data_sn_bao_cmb[['w', 'wa', 'omega_m','h0']]\n",
    "data_sn_bao_cmb['h0'] = data_sn_bao_cmb['h0'] * 100\n",
    "param_combinations_sn_bao_cmb = data_sn_bao_cmb.to_numpy()\n",
    "\n",
    "random_indices_sbc = np.random.choice(param_combinations_sn_bao_cmb.shape[0], 10000, replace=False)\n",
    "lw_params_sn_bao_cmb = param_combinations_sn_bao_cmb[random_indices_sbc]\n",
    "\n",
    "z_all = {'sne': z_desy5, 'dv': zeff_array, 'fap': zeff_fap}\n",
    "data_err_all = {'sne': distmod_error_desy5, 'dv': delta_dv, 'fap': delta_fap}\n",
    "#cov_matrix_sne"
   ],
   "outputs": [
    {
     "name": "stdout",
     "output_type": "stream",
     "text": [
      "Data shape before reshape: (3345241,)\n",
      "C_SYS shape after reshape: (1829, 1829)\n",
      "Data shape before reshape: (3345241,)\n",
      "C_SYS shape after reshape: (1829, 1829)\n",
      "[0.24651 0.336   0.38388 ... 0.02561 0.02448 0.092  ]\n",
      "[0.0968 0.136  0.2332 ... 0.1237 0.116  0.2873]\n",
      "dv [ 0.         12.56733789 15.90704123 19.86354247 24.13368485  0.\n",
      " 31.51604873]\n",
      "delta dv [       nan 0.14769734 0.19712699 0.1695468  0.36418021        nan\n",
      " 0.44508433]\n",
      "[ 7.78277361 12.43113123 15.97929259 19.34675898 23.81612642 25.39850208\n",
      " 30.66427324]\n",
      "[ 7.83003238 12.50661589 16.0763225  19.46423691 23.96074337 25.55272757\n",
      " 30.8504737 ]\n",
      "[0.         0.14870767 0.19699585 0.16942324 0.36576218 0.\n",
      " 0.45039171]\n",
      "[0.15       0.14870767 0.19699585 0.16942324 0.36576218 0.67\n",
      " 0.45039171]\n",
      "[0.59053747 0.87174805 1.235266   1.97072542 4.5056629 ]\n",
      "[0.         0.02361165 0.03654867 0.03482655 0.09344398 0.\n",
      " 0.17147831]\n",
      "[0.02361165 0.03654867 0.03482655 0.09344398 0.17147831]\n",
      "[0.295 0.51  0.706 0.93  1.317 1.491 2.33 ]\n",
      "[0.15       0.14870767 0.19699585 0.16942324 0.36576218 0.67\n",
      " 0.45039171]\n",
      "zeff_fap [0.51  0.706 0.93  1.317 2.33 ]\n",
      "[0.02361165 0.03654867 0.03482655 0.09344398 0.17147831]\n",
      "[0.24651 0.336   0.38388 ... 0.02561 0.02448 0.092  ]\n",
      "[0.0968 0.136  0.2332 ... 0.1237 0.116  0.2873]\n",
      "xxxxxxxxxxxxX\n"
     ]
    },
    {
     "name": "stderr",
     "output_type": "stream",
     "text": [
      "/var/folders/2d/zqs_vr2n65q9fsqw5kq8wmqw0000gn/T/ipykernel_72672/2801750345.py:68: RuntimeWarning: invalid value encountered in divide\n",
      "  partial_DM = (2 * DM * DH * z) / (3 * (DM**2 * DH * z)**(2/3))\n",
      "/var/folders/2d/zqs_vr2n65q9fsqw5kq8wmqw0000gn/T/ipykernel_72672/2801750345.py:69: RuntimeWarning: invalid value encountered in divide\n",
      "  partial_DH = (DM**2 * z) / (3 * (DM**2 * DH * z)**(2/3))\n"
     ]
    }
   ],
   "execution_count": 1
  },
  {
   "metadata": {
    "ExecuteTime": {
     "end_time": "2024-12-02T21:53:13.828266Z",
     "start_time": "2024-12-02T21:53:13.817759Z"
    }
   },
   "cell_type": "code",
   "source": [
    "from cmb_v1 import la_rzs_from_cosmoparams as fixed_la_rzs_from_cosmoparams\n",
    "from cmb_likelihood_cal_with_sne_cov_gaussian_ombh2 import run_mcmc_with_cmb\n",
    "from wowadis_muilt import sne_distmod as fixed_sne_distmod\n",
    "from wowadis_muilt import bao_dv_dr as fixed_bao_dv_dr\n",
    "from wowadis_muilt import bao_fap as fixed_bao_fap\n",
    "\n",
    "from wowadis_muilt_ombh2_gaussian_withcovmat import run_mcmc_with_cov"
   ],
   "id": "e755965a33246438",
   "outputs": [],
   "execution_count": 2
  },
  {
   "metadata": {
    "ExecuteTime": {
     "end_time": "2024-12-02T22:10:01.295204Z",
     "start_time": "2024-12-02T21:53:20.634400Z"
    }
   },
   "cell_type": "code",
   "source": [
    "cosmo_lcdm_30 = FlatLambdaCDM(H0=70, Om0=0.3)\n",
    "\n",
    "des_distmod_compare_desy5_30 = fixed_sne_distmod(z=z_desy5, H0=70, Om0=0.3, w0=None, wa=None, cosmo=cosmo_lcdm_30)\n",
    "dv_dr_lcdm30 = fixed_bao_dv_dr(zeff_array, H0=70, Om0=0.3, w0=-1.0, wa=0)\n",
    "fap_lcdm30 = fixed_bao_fap(zeff_fap, H0=70, Om0=0.3, w0=-1.0, wa=0)\n",
    "\n",
    "data_obs_all_different_cosmo = {'sne': des_distmod_compare_desy5_30, 'dv': dv_dr_lcdm30, 'fap': fap_lcdm30}\n",
    "data_err_all_different_cosmo = {'sne': distmod_error_desy5, 'dv': delta_dv, 'fap': delta_fap}\n",
    "z_all_different_cosmo = {'sne': z_desy5, 'dv': zeff_array, 'fap': zeff_fap}\n",
    "\n",
    "initial_guess_all_with_H0 = [0.31, -1.0, 0.0, 70.0,0]\n",
    "\n",
    "samples_all_different_cosmo_with_H0 = run_mcmc_with_cov(\n",
    "    z=z_all_different_cosmo,\n",
    "    data_obs=data_obs_all_different_cosmo,\n",
    "    data_err=data_err_all_different_cosmo,\n",
    "    type='combined_distmod_with_H0',\n",
    "    initial_guess=initial_guess_all_with_H0,\n",
    "    ndim=5,\n",
    "    nwalkers=250,\n",
    "    nsteps=4000,\n",
    "    nburn=400,\n",
    "    nthin=15,\n",
    ")"
   ],
   "id": "b49b6f451811406b",
   "outputs": [
    {
     "name": "stderr",
     "output_type": "stream",
     "text": [
      "100%|██████████| 4000/4000 [16:38<00:00,  4.01it/s]\n"
     ]
    }
   ],
   "execution_count": 4
  },
  {
   "metadata": {
    "ExecuteTime": {
     "end_time": "2024-12-02T22:10:01.326680Z",
     "start_time": "2024-12-02T22:10:01.324502Z"
    }
   },
   "cell_type": "code",
   "source": "np.save('data/null_lcdm_BAO_SNe_same_omm_all.npy', samples_all_different_cosmo_with_H0)\n",
   "id": "5842e4c9ab262a76",
   "outputs": [],
   "execution_count": 6
  },
  {
   "metadata": {
    "ExecuteTime": {
     "end_time": "2024-12-02T22:29:53.847883Z",
     "start_time": "2024-12-02T22:10:01.343011Z"
    }
   },
   "cell_type": "code",
   "source": [
    "from astropy.cosmology import FlatLambdaCDM\n",
    "from wowadis_muilt import sne_distmod as fixed_sne_distmod\n",
    "from wowadis_muilt import bao_dv_dr as fixed_bao_dv_dr\n",
    "from wowadis_muilt import bao_fap as fixed_bao_fap\n",
    "from cmb_v1 import la_rzs_from_cosmoparams as fixed_la_rzs_from_cosmoparams\n",
    "from cmb_likelihood_cal_with_sne_cov_gaussian_ombh2 import run_mcmc_with_cmb\n",
    "\n",
    "cosmo_lcdm_30 = FlatLambdaCDM(H0=70, Om0=0.3)\n",
    "\n",
    "des_distmod_compare_desy5_30 = fixed_sne_distmod(z=z_desy5, H0=70, Om0=0.3, w0=None, wa=None, cosmo=cosmo_lcdm_30)\n",
    "\n",
    "dv_dr_lcdm30 = fixed_bao_dv_dr(zeff_array, H0=70, Om0=0.3, w0=-1.0, wa=0)\n",
    "fap_lcdm30 = fixed_bao_fap(zeff_fap, H0=70, Om0=0.3, w0=-1.0, wa=0)\n",
    "\n",
    "data_cmb = fixed_la_rzs_from_cosmoparams(H0=70, omegam=0.3, w=-1, wa=0.0)\n",
    "\n",
    "data_obs_all_different_cosmo = {'sne': des_distmod_compare_desy5_30, 'dv': dv_dr_lcdm30, 'fap': fap_lcdm30}\n",
    "data_err_all_different_cosmo = {'sne': distmod_error_desy5, 'dv': delta_dv, 'fap': delta_fap}\n",
    "\n",
    "samples_all_different_cosmo_with_H0 = run_mcmc_with_cmb(\n",
    "    z=z_all_different_cosmo,\n",
    "    data_obs=data_obs_all_different_cosmo,\n",
    "    data_err=data_err_all_different_cosmo,\n",
    "    data_obs_cmb=data_cmb,\n",
    "    type='combined_distmod_with_H0',\n",
    "    initial_guess=initial_guess_all_with_H0,\n",
    "    ndim=5,\n",
    "    nwalkers=250,\n",
    "    nsteps=4000,\n",
    "    nburn=400,\n",
    "    nthin=15,\n",
    ")\n",
    "\n",
    "np.save('data/null_lcdm_CMB_SNe_BAO_same_omm_all.npy', samples_all_different_cosmo_with_H0)"
   ],
   "id": "cbce06456a921bad",
   "outputs": [
    {
     "name": "stderr",
     "output_type": "stream",
     "text": [
      "100%|██████████| 4000/4000 [19:50<00:00,  3.36it/s]\n"
     ]
    }
   ],
   "execution_count": 7
  },
  {
   "metadata": {},
   "cell_type": "markdown",
   "source": "# Gaussian rd",
   "id": "2845427071e6f7a0"
  },
  {
   "metadata": {
    "ExecuteTime": {
     "end_time": "2024-12-03T00:20:07.933058Z",
     "start_time": "2024-12-03T00:03:24.982946Z"
    }
   },
   "cell_type": "code",
   "source": [
    "from astropy.cosmology import FlatLambdaCDM\n",
    "from wowadis_muilt import sne_distmod as fixed_sne_distmod\n",
    "from wowadis_muilt import bao_dv_dr as fixed_bao_dv_dr\n",
    "from wowadis_muilt import bao_fap as fixed_bao_fap\n",
    "from cmb_v1 import la_rzs_from_cosmoparams as fixed_la_rzs_from_cosmoparams\n",
    "from cmb_likelihood_cal_with_sne_cov_gaussian_rd import run_mcmc_with_cmb\n",
    "from wowadis_muilt_rdrag_gaussian_withcovmat import run_mcmc_with_cov as run_mcmc_with_cov_rdrag\n",
    "\n",
    "cosmo_lcdm_30 = FlatLambdaCDM(H0=70, Om0=0.3)\n",
    "\n",
    "des_distmod_compare_desy5_30 = fixed_sne_distmod(z=z_desy5, H0=70, Om0=0.3, w0=None, wa=None, cosmo=cosmo_lcdm_30)\n",
    "dv_dr_lcdm30 = fixed_bao_dv_dr(zeff_array, H0=70, Om0=0.3, w0=-1.0, wa=0)\n",
    "fap_lcdm30 = fixed_bao_fap(zeff_fap, H0=70, Om0=0.3, w0=-1.0, wa=0)\n",
    "\n",
    "data_obs_all_different_cosmo = {'sne': des_distmod_compare_desy5_30, 'dv': dv_dr_lcdm30, 'fap': fap_lcdm30}\n",
    "data_err_all_different_cosmo = {'sne': distmod_error_desy5, 'dv': delta_dv, 'fap': delta_fap}\n",
    "\n",
    "samples_all_different_cosmo_with_H0 = run_mcmc_with_cov_rdrag(\n",
    "    z=z_all_different_cosmo,\n",
    "    data_obs=data_obs_all_different_cosmo,\n",
    "    data_err=data_err_all_different_cosmo,\n",
    "    type='combined_distmod_with_H0',\n",
    "    initial_guess=initial_guess_all_with_H0,\n",
    "    ndim=5,\n",
    "    nwalkers=250,\n",
    "    nsteps=4000,\n",
    "    nburn=400,\n",
    "    nthin=15,\n",
    ")\n",
    "np.save('data/null_lcdm_BAO_SNe_same_omm_all_gaussian_rd.npy', samples_all_different_cosmo_with_H0)"
   ],
   "id": "120d7429b18bb9f2",
   "outputs": [
    {
     "name": "stderr",
     "output_type": "stream",
     "text": [
      "100%|██████████| 4000/4000 [16:39<00:00,  4.00it/s]\n"
     ]
    }
   ],
   "execution_count": 9
  },
  {
   "metadata": {
    "ExecuteTime": {
     "end_time": "2024-12-03T00:39:57.266705Z",
     "start_time": "2024-12-03T00:20:07.953584Z"
    }
   },
   "cell_type": "code",
   "source": [
    "from astropy.cosmology import FlatLambdaCDM\n",
    "from wowadis_muilt import sne_distmod as fixed_sne_distmod\n",
    "from wowadis_muilt import bao_dv_dr as fixed_bao_dv_dr\n",
    "from wowadis_muilt import bao_fap as fixed_bao_fap\n",
    "from cmb_v1 import la_rzs_from_cosmoparams as fixed_la_rzs_from_cosmoparams\n",
    "from cmb_likelihood_cal_with_sne_cov_gaussian_rd import run_mcmc_with_cmb\n",
    "\n",
    "cosmo_lcdm_30 = FlatLambdaCDM(H0=70, Om0=0.3)\n",
    "\n",
    "des_distmod_compare_desy5_30 = fixed_sne_distmod(z=z_desy5, H0=70, Om0=0.3, w0=None, wa=None, cosmo=cosmo_lcdm_30)\n",
    "\n",
    "dv_dr_lcdm30 = fixed_bao_dv_dr(zeff_array, H0=70, Om0=0.3, w0=-1.0, wa=0)\n",
    "fap_lcdm30 = fixed_bao_fap(zeff_fap, H0=70, Om0=0.3, w0=-1.0, wa=0)\n",
    "\n",
    "data_cmb = fixed_la_rzs_from_cosmoparams(H0=70, omegam=0.3, w=-1, wa=0.0)\n",
    "\n",
    "data_obs_all_different_cosmo = {'sne': des_distmod_compare_desy5_30, 'dv': dv_dr_lcdm30, 'fap': fap_lcdm30}\n",
    "data_err_all_different_cosmo = {'sne': distmod_error_desy5, 'dv': delta_dv, 'fap': delta_fap}\n",
    "\n",
    "samples_all_different_cosmo_with_H0 = run_mcmc_with_cmb(\n",
    "    z=z_all_different_cosmo,\n",
    "    data_obs=data_obs_all_different_cosmo,\n",
    "    data_err=data_err_all_different_cosmo,\n",
    "    data_obs_cmb=data_cmb,\n",
    "    type='combined_distmod_with_H0',\n",
    "    initial_guess=initial_guess_all_with_H0,\n",
    "    ndim=5,\n",
    "    nwalkers=250,\n",
    "    nsteps=4000,\n",
    "    nburn=400,\n",
    "    nthin=15,\n",
    "    cov_matrix_sne=None\n",
    ")\n",
    "\n",
    "np.save('data/null_lcdm_CMB_SNe_BAO_same_omm_all_gaussian_rd.npy', samples_all_different_cosmo_with_H0)"
   ],
   "id": "6df63aa4f0175461",
   "outputs": [
    {
     "name": "stderr",
     "output_type": "stream",
     "text": [
      "100%|██████████| 4000/4000 [19:46<00:00,  3.37it/s]\n"
     ]
    }
   ],
   "execution_count": 10
  },
  {
   "metadata": {},
   "cell_type": "code",
   "outputs": [],
   "execution_count": null,
   "source": "",
   "id": "9b6567d8cb384e66"
  },
  {
   "metadata": {},
   "cell_type": "code",
   "outputs": [],
   "execution_count": null,
   "source": "",
   "id": "5b9181afd64b6262"
  }
 ],
 "metadata": {
  "kernelspec": {
   "display_name": "Python 3",
   "language": "python",
   "name": "python3"
  },
  "language_info": {
   "codemirror_mode": {
    "name": "ipython",
    "version": 2
   },
   "file_extension": ".py",
   "mimetype": "text/x-python",
   "name": "python",
   "nbconvert_exporter": "python",
   "pygments_lexer": "ipython2",
   "version": "2.7.6"
  }
 },
 "nbformat": 4,
 "nbformat_minor": 5
}
